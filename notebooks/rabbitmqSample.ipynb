{
 "cells": [
  {
   "cell_type": "code",
   "execution_count": 22,
   "metadata": {},
   "outputs": [
    {
     "name": "stdout",
     "output_type": "stream",
     "text": [
      "Overwriting ../scripts/send.py\n"
     ]
    }
   ],
   "source": [
    "%%writefile ../scripts/send.py\n",
    "#!/usr/bin/env python\n",
    "import pika\n",
    "import sys\n",
    "\n",
    "job_description =''\n",
    "\n",
    "if len(sys.argv)<2:\n",
    "    print(\"Please Specify the job descriptor json file to run as argument to this script.\")\n",
    "    exit(1)\n",
    "else:\n",
    "    job_description = open(sys.argv[1],'r').read()\n",
    "\n",
    "connection = pika.BlockingConnection(pika.ConnectionParameters(host='localhost'))\n",
    "channel = connection.channel()\n",
    "\n",
    "channel.queue_declare(queue='tasks')\n",
    "\n",
    "channel.basic_publish(exchange='',\n",
    "                      routing_key='tasks',\n",
    "                      body=job_description)\n",
    "print(\" [x] Sending 'Job Description' to execute.\")\n",
    "print(\"Details:\\n\",str(job_description))\n",
    "print(\"Success.\")\n",
    "connection.close()"
   ]
  },
  {
   "cell_type": "code",
   "execution_count": 5,
   "metadata": {},
   "outputs": [
    {
     "name": "stdout",
     "output_type": "stream",
     "text": [
      "Overwriting ../scripts/receive.py\n"
     ]
    }
   ],
   "source": [
    "%%writefile ../scripts/receive.py\n",
    "#!/usr/bin/env python\n",
    "import pika\n",
    "import shlex\n",
    "import subprocess\n",
    "import re\n",
    "import pprint\n",
    "\n",
    "def run_command(command):\n",
    "    try:\n",
    "        process = subprocess.Popen(shlex.split(command), stdout=subprocess.PIPE, universal_newlines=True)\n",
    "    except FileNotFoundError as e:\n",
    "        print(e)\n",
    "        return (-1)\n",
    "    while True:\n",
    "        output = process.stdout.readline()\n",
    "        if output == '' and process.poll() is not None:\n",
    "            break\n",
    "        if output:\n",
    "            print(output.strip())\n",
    "    rc = process.poll()\n",
    "    return rc\n",
    "\n",
    "def env_str(env_dic):\n",
    "    env_string=\"\"\n",
    "    for x,y in env_dic.items():\n",
    "        env_string =env_string+\" --env \"+x+\"=\"+y \n",
    "    return env_string.strip()\n",
    "\n",
    "def generate_cmd(job_description):\n",
    "    command = 'docker run -d '\n",
    "    req_keys = ['image', 'cmd']\n",
    "    mem_req = None\n",
    "    invalid = False\n",
    "    \n",
    "    for k in req_keys:\n",
    "        if k not in job_description.keys():\n",
    "            print(\"Job description not valid.\")\n",
    "            print(\"Missing\",k)\n",
    "            invalid=True\n",
    "    \n",
    "    if 'res_req' in job_description.keys():\n",
    "        if 'memory' in job_description['res_req'] and type(job_description['res_req']['memory'])==int:\n",
    "            mem_req = job_description['res_req']['memory']\n",
    "        else:\n",
    "            print(\"No memory reqirement mentioned, checking againt difined buffer only.\")\n",
    "            print(\"Check memory representation must be an number in kb\")\n",
    "            print(\"Continuing...\")\n",
    "            \n",
    "    if invalid==True or is_mem_available(mem_req)==False:\n",
    "        print('Failed to generate Command...')\n",
    "        if is_mem_available(mem_req)==False:\n",
    "            print('Not suffuciant Memory Available. Note buffer is 10000kb by default')\n",
    "        return None\n",
    "    \n",
    "    if 'env' in job_description.keys():\n",
    "        command = command + env_str(job_description['env'])\n",
    "    command =command+ \" -i -t \"+job_description['image']+\" /bin/bash -c \\\"\"+ str(' '.join(e for e in job_description['cmd']))+\"\\\" \" \n",
    "    return command\n",
    "\n",
    "def is_mem_available(r_mem_kb, buffer_kb=100000):\n",
    "    if r_mem_kb==None:\n",
    "        r_mem_kb = 0\n",
    "    meminfo = open('/proc/meminfo').read()\n",
    "    match = re.findall('MemFree:.*',meminfo)[0]\n",
    "    a_mem_kb = int(match.split()[1])\n",
    "    if r_mem_kb+buffer_kb < a_mem_kb:\n",
    "        return True\n",
    "    else:\n",
    "        return False\n",
    "\n",
    "connection = pika.BlockingConnection(pika.ConnectionParameters(host='localhost'))\n",
    "channel = connection.channel()\n",
    "\n",
    "channel.queue_declare(queue='tasks')\n",
    "\n",
    "def callback(ch, method, properties, body):\n",
    "    job_desc = eval(body.decode(\"utf-8\"))\n",
    "    print(\" [x] Job description:\")\n",
    "    command = generate_cmd(job_desc)\n",
    "    print(command)\n",
    "    if command:\n",
    "        run_command(command)\n",
    "#         print()\n",
    "    print(\"Finished...\")\n",
    "\n",
    "channel.basic_consume(callback,\n",
    "                      queue='tasks',\n",
    "                      no_ack=True)\n",
    "\n",
    "print(' [*] Waiting for New Job. To exit press CTRL+C')\n",
    "channel.start_consuming()"
   ]
  },
  {
   "cell_type": "markdown",
   "metadata": {
    "collapsed": true
   },
   "source": [
    "## a docker image\n",
    "an array of cmd parameters to pass to the image\n",
    "a dictionary of environment variables to pass to the image\n",
    "a dictionary of cpu and memory requirements"
   ]
  },
  {
   "cell_type": "code",
   "execution_count": 26,
   "metadata": {},
   "outputs": [
    {
     "data": {
      "text/plain": [
       "int"
      ]
     },
     "execution_count": 26,
     "metadata": {},
     "output_type": "execute_result"
    }
   ],
   "source": [
    "type(eval(open('../job_desc/job_desc_2.json').read())['res_req']['memory'])"
   ]
  },
  {
   "cell_type": "code",
   "execution_count": 82,
   "metadata": {},
   "outputs": [],
   "source": [
    "job={'image':'ubuntu', 'cmd':['ls','-l'], 'env':{'my_env':'testing', 'your_env':'prod'}, 'res_req':{'cpu':'something', 'memory':'another thing'}}"
   ]
  },
  {
   "cell_type": "code",
   "execution_count": 147,
   "metadata": {},
   "outputs": [],
   "source": [
    "def run_command(command):\n",
    "    try:\n",
    "        process = subprocess.Popen(shlex.split(command), stdout=subprocess.PIPE)\n",
    "    except FileNotFoundError as e:\n",
    "        print(e)\n",
    "        return (-1)\n",
    "        \n",
    "    while True:\n",
    "        output = process.stdout.readline().decode()\n",
    "        if output == '' and process.poll() is not None:\n",
    "            break\n",
    "        if output:\n",
    "            print (output.strip())\n",
    "    rc = process.poll()\n",
    "    return rc"
   ]
  },
  {
   "cell_type": "code",
   "execution_count": 148,
   "metadata": {},
   "outputs": [
    {
     "data": {
      "text/plain": [
       "127"
      ]
     },
     "execution_count": 148,
     "metadata": {},
     "output_type": "execute_result"
    }
   ],
   "source": [
    "run_command('ls -l ;')"
   ]
  },
  {
   "cell_type": "code",
   "execution_count": 31,
   "metadata": {},
   "outputs": [],
   "source": [
    "import pprint\n"
   ]
  },
  {
   "cell_type": "code",
   "execution_count": 36,
   "metadata": {
    "collapsed": true
   },
   "outputs": [],
   "source": [
    "print = pprint.pprint()"
   ]
  },
  {
   "cell_type": "code",
   "execution_count": 38,
   "metadata": {},
   "outputs": [
    {
     "name": "stdout",
     "output_type": "stream",
     "text": [
      "'sadsd'\n"
     ]
    }
   ],
   "source": [
    "print('sadsd')"
   ]
  },
  {
   "cell_type": "code",
   "execution_count": null,
   "metadata": {
    "collapsed": true
   },
   "outputs": [],
   "source": []
  }
 ],
 "metadata": {
  "kernelspec": {
   "display_name": "Python [conda env:mlpb]",
   "language": "python",
   "name": "conda-env-mlpb-py"
  },
  "language_info": {
   "codemirror_mode": {
    "name": "ipython",
    "version": 3
   },
   "file_extension": ".py",
   "mimetype": "text/x-python",
   "name": "python",
   "nbconvert_exporter": "python",
   "pygments_lexer": "ipython3",
   "version": "3.5.4"
  },
  "varInspector": {
   "cols": {
    "lenName": 16,
    "lenType": 16,
    "lenVar": 40
   },
   "kernels_config": {
    "python": {
     "delete_cmd_postfix": "",
     "delete_cmd_prefix": "del ",
     "library": "var_list.py",
     "varRefreshCmd": "print(var_dic_list())"
    },
    "r": {
     "delete_cmd_postfix": ") ",
     "delete_cmd_prefix": "rm(",
     "library": "var_list.r",
     "varRefreshCmd": "cat(var_dic_list()) "
    }
   },
   "types_to_exclude": [
    "module",
    "function",
    "builtin_function_or_method",
    "instance",
    "_Feature"
   ],
   "window_display": false
  }
 },
 "nbformat": 4,
 "nbformat_minor": 2
}
