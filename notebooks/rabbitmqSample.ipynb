{
 "cells": [
  {
   "cell_type": "code",
   "execution_count": 47,
   "metadata": {},
   "outputs": [
    {
     "name": "stdout",
     "output_type": "stream",
     "text": [
      "Overwriting send.py\n"
     ]
    }
   ],
   "source": [
    "#%%writefile send.py\n",
    "#!/usr/bin/env python\n",
    "import pika\n",
    "import sys\n",
    "\n",
    "command =''\n",
    "\n",
    "if len(sys.argv)<2:\n",
    "    print(\"Please Specify the command (as a single string) to run as argument to this script.\")\n",
    "    exit(1)\n",
    "else:\n",
    "    command = ' '.join(str(x) for x in sys.argv[1:])\n",
    "\n",
    "connection = pika.BlockingConnection(pika.ConnectionParameters(host='localhost'))\n",
    "channel = connection.channel()\n",
    "\n",
    "channel.queue_declare(queue='hello')\n",
    "\n",
    "channel.basic_publish(exchange='',\n",
    "                      routing_key='hello',\n",
    "                      body=command)\n",
    "print(\" [x] Sent 'Hello World!'\")\n",
    "connection.close()"
   ]
  },
  {
   "cell_type": "code",
   "execution_count": 79,
   "metadata": {},
   "outputs": [
    {
     "name": "stdout",
     "output_type": "stream",
     "text": [
      "Overwriting receive.py\n"
     ]
    }
   ],
   "source": [
    "#%%writefile receive.py\n",
    "#!/usr/bin/env python\n",
    "import pika\n",
    "import shlex\n",
    "import subprocess\n",
    "\n",
    "def run_command(command):\n",
    "    try:\n",
    "        process = subprocess.Popen(shlex.split(command), stdout=subprocess.PIPE)\n",
    "    except FileNotFoundError as e:\n",
    "        print(e)\n",
    "        return (-1)\n",
    "        \n",
    "    while True:\n",
    "        output = process.stdout.readline().decode()\n",
    "        if output == '' and process.poll() is not None:\n",
    "            break\n",
    "        if output:\n",
    "            print (output.strip())\n",
    "    rc = process.poll()\n",
    "    return rc\n",
    "\n",
    "connection = pika.BlockingConnection(pika.ConnectionParameters(host='localhost'))\n",
    "channel = connection.channel()\n",
    "\n",
    "channel.queue_declare(queue='hello')\n",
    "\n",
    "def callback(ch, method, properties, body):\n",
    "    print(\" [x] Command to Run %r\" % body)\n",
    "    run_command(body.decode(\"utf-8\") )\n",
    "    print(\"Finished...\")\n",
    "\n",
    "channel.basic_consume(callback,\n",
    "                      queue='hello',\n",
    "                      no_ack=True)\n",
    "\n",
    "print(' [*] Waiting for messages. To exit press CTRL+C')\n",
    "channel.start_consuming()"
   ]
  },
  {
   "cell_type": "code",
   "execution_count": null,
   "metadata": {
    "collapsed": true
   },
   "outputs": [],
   "source": []
  }
 ],
 "metadata": {
  "kernelspec": {
   "display_name": "Python [conda env:mlpb]",
   "language": "python",
   "name": "conda-env-mlpb-py"
  },
  "language_info": {
   "codemirror_mode": {
    "name": "ipython",
    "version": 3
   },
   "file_extension": ".py",
   "mimetype": "text/x-python",
   "name": "python",
   "nbconvert_exporter": "python",
   "pygments_lexer": "ipython3",
   "version": "3.5.4"
  },
  "varInspector": {
   "cols": {
    "lenName": 16,
    "lenType": 16,
    "lenVar": 40
   },
   "kernels_config": {
    "python": {
     "delete_cmd_postfix": "",
     "delete_cmd_prefix": "del ",
     "library": "var_list.py",
     "varRefreshCmd": "print(var_dic_list())"
    },
    "r": {
     "delete_cmd_postfix": ") ",
     "delete_cmd_prefix": "rm(",
     "library": "var_list.r",
     "varRefreshCmd": "cat(var_dic_list()) "
    }
   },
   "types_to_exclude": [
    "module",
    "function",
    "builtin_function_or_method",
    "instance",
    "_Feature"
   ],
   "window_display": false
  }
 },
 "nbformat": 4,
 "nbformat_minor": 2
}
